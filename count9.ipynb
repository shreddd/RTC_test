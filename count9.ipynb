{
 "cells": [
  {
   "cell_type": "markdown",
   "id": "856519c5-b1f5-4bc8-8978-6e01287f6af0",
   "metadata": {},
   "source": [
    "## Warm Up - counting 9s\n",
    "\n",
    "Write a python function to do the following\n",
    "\n",
    "Given an array of ints, return the number of 9's in the array.\n",
    "```\n",
    "array_count9([1, 2, 9]) → 1\n",
    "array_count9([1, 9, 9]) → 2\n",
    "array_count9([1, 9, 9, 3, 9]) → 3\n",
    "```"
   ]
  },
  {
   "cell_type": "code",
   "execution_count": 16,
   "id": "33517f67-5046-47a6-80cd-f3d5778817a2",
   "metadata": {},
   "outputs": [],
   "source": [
    "# Your code here\n"
   ]
  }
 ],
 "metadata": {
  "kernelspec": {
   "display_name": "Anaconda3",
   "language": "python",
   "name": "anaconda3"
  },
  "language_info": {
   "codemirror_mode": {
    "name": "ipython",
    "version": 3
   },
   "file_extension": ".py",
   "mimetype": "text/x-python",
   "name": "python",
   "nbconvert_exporter": "python",
   "pygments_lexer": "ipython3",
   "version": "3.9.7"
  }
 },
 "nbformat": 4,
 "nbformat_minor": 5
}
