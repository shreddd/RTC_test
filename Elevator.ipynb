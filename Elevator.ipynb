{
 "cells": [
  {
   "cell_type": "markdown",
   "id": "3affa078-4c71-4951-b571-5173679be0b7",
   "metadata": {},
   "source": [
    "## Elevator problem\n",
    "\n",
    "This is a design problem that will ask for some pseudo-code to illustrate your ideas.\n",
    "The thought process is more important than syntax or programming details, so don't\n",
    "worry too much about those. In this problem, we will start with a very simple set of requirements\n",
    "and add some more later.\n",
    "\n",
    "Please **feel free to ask clarifying questions at any point**. Understanding the requirements, here as in\n",
    "real life, is part of the challenge."
   ]
  },
  {
   "cell_type": "markdown",
   "id": "671d5f76-d5da-4f0a-8343-089a36eb9d22",
   "metadata": {},
   "source": [
    "## The problem, Part 1\n",
    "\n",
    "Create a class to represent an elevator in a hotel.\n",
    "The only thing the elevator can do is go to a different floor.\n",
    "Details of people pressing buttons are not included for this part.\n",
    "\n",
    "The elevator could print out its current state like this:\n",
    "```\n",
    "Floor 1\n",
    "Floor 3\n",
    "Floor 1\n",
    "Floor 7\n",
    "..etc..\n",
    "```"
   ]
  },
  {
   "cell_type": "code",
   "execution_count": null,
   "id": "a34dc3c7-c71b-42a2-9f37-cd2348d50830",
   "metadata": {},
   "outputs": [],
   "source": [
    "# Add your code/pseudo-code \n",
    "\n",
    "class Elevator:\n",
    "    pass"
   ]
  }
 ],
 "metadata": {
  "kernelspec": {
   "display_name": "Anaconda3",
   "language": "python",
   "name": "anaconda3"
  },
  "language_info": {
   "codemirror_mode": {
    "name": "ipython",
    "version": 3
   },
   "file_extension": ".py",
   "mimetype": "text/x-python",
   "name": "python",
   "nbconvert_exporter": "python",
   "pygments_lexer": "ipython3",
   "version": "3.9.7"
  }
 },
 "nbformat": 4,
 "nbformat_minor": 5
}
