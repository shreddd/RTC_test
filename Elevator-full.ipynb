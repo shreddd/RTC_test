{
 "cells": [
  {
   "cell_type": "markdown",
   "id": "036c877c-4e21-447f-9985-60b63331236c",
   "metadata": {},
   "source": [
    "## Elevator problem\n",
    "\n",
    "This is a design problem that will ask for some pseudo-code to illustrate your ideas. The thought process is more important than syntax or programming details, so don't worry too much about those. In this problem, we will start with a very simple set of requirements and add some more later.\n",
    "\n",
    "Please **feel free to ask clarifying questions at any point**. Understanding the requirements, here as in\n",
    "real life, is part of the challenge.\n",
    "\n",
    "The challenge is about designing the controller for an elevator. It is broken down into progressively more realistic requirements for the behavior, in three stages."
   ]
  },
  {
   "cell_type": "markdown",
   "id": "fb5786e1-b5aa-444a-b67d-cec9184574f3",
   "metadata": {},
   "source": [
    "## Part 1\n",
    "\n",
    "This is a very crude model of an elevator. The only thing the elevator can do is go to a different floor. Any other features of a real elevator, i.e. people pressing buttons, are not included for this part.\n",
    "The elevator could print out its current state like this:\n",
    "\n",
    "The elevator could print out its current state like this:\n",
    "```\n",
    "Floor 1\n",
    "Floor 3\n",
    "Floor 1\n",
    "Floor 7\n",
    "..etc..\n",
    "```"
   ]
  },
  {
   "cell_type": "code",
   "execution_count": 1,
   "id": "de3b696a-2c87-4a78-8a20-2f2b4defb781",
   "metadata": {},
   "outputs": [],
   "source": [
    "# Add your code/pseudo-code \n",
    "\n",
    "class Elevator:\n",
    "    pass\n",
    "    "
   ]
  },
  {
   "cell_type": "markdown",
   "id": "49e0ba00-098d-456c-8b80-059f9d0afa86",
   "metadata": {},
   "source": [
    "## Part 2\n",
    "\n",
    "Add the idea of people pressing buttons, both to call the elevator and choose their destination. People are on a given floor and can press the up or down button. Once the elevator arrives at their floor, they get in and choose another floor to go to (when they arrive at thay floor, they can be assumed to get out).\n",
    "\n",
    "The elevator could print out its current state like this:\n",
    "```\n",
    "Floor 1\n",
    "Person on Floor 3 presses Down button\n",
    "Floor 3\n",
    "Person in elevator presses Floor 1\n",
    "Floor 1\n",
    "..etc..\n",
    "```"
   ]
  },
  {
   "cell_type": "code",
   "execution_count": 2,
   "id": "a18dc333-e868-4299-9ca3-55f2b1d4c108",
   "metadata": {},
   "outputs": [],
   "source": [
    "# Add your code, pseudo-code (you can start by copying from above)\n",
    "\n"
   ]
  },
  {
   "cell_type": "markdown",
   "id": "e1d71247-a5c7-4d9a-9dd1-019007580c3c",
   "metadata": {},
   "source": [
    "## Part 3\n",
    "\n",
    "This is a more realistic elevator. Add the concept of time for the elevator to get from one floor to another. Also try to act like a real elevator and avoid stranding people while still keeping travel time down. \n",
    "\n",
    "- You can assume it takes 3 units of time for the elevator to travel a distance of one floor.\n",
    "- The elevator pauses for 1 unit of time whenever it stops to give people a chance to enter or leave the elevator.\n",
    "- Pushing a button to call the elevator, or pushing a button inside the elevator, happens \"instantly\" in whatever is the current unit of time.\n",
    "\n",
    "This is a lot to deal with as pseudo-code, so here we're asking more for an API skeleton and some discussion:\n",
    "- methods for the Elevator class\n",
    "- description (and name) of variables used as data structures\n",
    "- descriptions of the main algorithm(s) used to manipulate the data structures\n",
    "\n",
    "Your methods and data structures should be able to keep track of:\n",
    "- what floor the elevator is on now\n",
    "- which floor(s) will it visit next\n",
    "- how many people are inside the elevator\n",
    "\n",
    "Consider the following example scenario:\n",
    "- The elevator is empty at the first floor (floors are numbered from 1)\n",
    "- Someone on the 3rd floor presses the down button\n",
    "- One time unit later, someone on the 2nd floor presses the down button\n",
    "- The elevator goes up to the 3rd floor, lets in the person\n",
    "- The person (who just got in) presses the 1st floor button\n",
    "- The elevator goes down to the 2nd floor, lets in the person\n",
    "- The 2nd person is also going to the 1st floor, so does nothing\n",
    "- The elevator goes to the 1st floor and lets both people out\n",
    "\n",
    "The output from the scenario above could look like this:\n",
    "```\n",
    "Time  Action/Status\n",
    "0     Stopped at Floor 1\n",
    "1     Person on Floor 3 presses Down button\n",
    "1     Going to Floor 3\n",
    "2     Person on Floor 2 presses Down button\n",
    "2     Going to Floor 3\n",
    "9     Stop at Floor 3\n",
    "9     Person enters the elevator\n",
    "10    Person inside presses Floor 1 button\n",
    "11    Going to Floor 2\n",
    "14    Stop at Floor 2\n",
    "14    Person enters the elevator\n",
    "15    Going to Floor 1\n",
    "17    Stop at Floor 1\n",
    "18    2 people exit the elevator\n",
    "19    Stopped at Floor 1\n",
    "...etc...\n",
    "```\n"
   ]
  },
  {
   "cell_type": "code",
   "execution_count": 3,
   "id": "bace043c-623e-40eb-a413-9049383a7068",
   "metadata": {},
   "outputs": [],
   "source": [
    "# Add your API here\n",
    "\n",
    "\n",
    "class Elevator:\n",
    "    def __init__(self, num_floors_in_building):\n",
    "        self.num_floors = num_floors_in_building\n",
    "        # other variables..\n",
    "\n",
    "    # Methods in the API..\n"
   ]
  },
  {
   "cell_type": "code",
   "execution_count": null,
   "id": "35981d3b-166e-4bfd-b728-b6a47434b226",
   "metadata": {},
   "outputs": [],
   "source": []
  }
 ],
 "metadata": {
  "kernelspec": {
   "display_name": "Python 3",
   "language": "python",
   "name": "python3"
  },
  "language_info": {
   "codemirror_mode": {
    "name": "ipython",
    "version": 3
   },
   "file_extension": ".py",
   "mimetype": "text/x-python",
   "name": "python",
   "nbconvert_exporter": "python",
   "pygments_lexer": "ipython3",
   "version": "3.7.8"
  }
 },
 "nbformat": 4,
 "nbformat_minor": 5
}
