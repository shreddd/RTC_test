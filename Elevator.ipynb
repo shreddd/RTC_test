{
 "cells": [
  {
   "cell_type": "markdown",
   "id": "3affa078-4c71-4951-b571-5173679be0b7",
   "metadata": {},
   "source": [
    "## Designing an Elevator "
   ]
  },
  {
   "cell_type": "code",
   "execution_count": null,
   "id": "a34dc3c7-c71b-42a2-9f37-cd2348d50830",
   "metadata": {},
   "outputs": [],
   "source": []
  }
 ],
 "metadata": {
  "kernelspec": {
   "display_name": "Anaconda3",
   "language": "python",
   "name": "anaconda3"
  },
  "language_info": {
   "codemirror_mode": {
    "name": "ipython",
    "version": 3
   },
   "file_extension": ".py",
   "mimetype": "text/x-python",
   "name": "python",
   "nbconvert_exporter": "python",
   "pygments_lexer": "ipython3",
   "version": "3.9.7"
  }
 },
 "nbformat": 4,
 "nbformat_minor": 5
}
